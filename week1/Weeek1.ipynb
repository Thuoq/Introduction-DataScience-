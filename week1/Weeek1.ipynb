{
 "cells": [
  {
   "cell_type": "code",
   "execution_count": 1,
   "id": "rubber-recommendation",
   "metadata": {},
   "outputs": [],
   "source": [
    "import pandas as pd\n"
   ]
  },
  {
   "cell_type": "code",
   "execution_count": 2,
   "id": "b94311d2",
   "metadata": {},
   "outputs": [
    {
     "data": {
      "text/html": [
       "<div>\n",
       "<style scoped>\n",
       "    .dataframe tbody tr th:only-of-type {\n",
       "        vertical-align: middle;\n",
       "    }\n",
       "\n",
       "    .dataframe tbody tr th {\n",
       "        vertical-align: top;\n",
       "    }\n",
       "\n",
       "    .dataframe thead th {\n",
       "        text-align: right;\n",
       "    }\n",
       "</style>\n",
       "<table border=\"1\" class=\"dataframe\">\n",
       "  <thead>\n",
       "    <tr style=\"text-align: right;\">\n",
       "      <th></th>\n",
       "      <th>TIME</th>\n",
       "      <th>GEO</th>\n",
       "      <th>Value</th>\n",
       "    </tr>\n",
       "  </thead>\n",
       "  <tbody>\n",
       "    <tr>\n",
       "      <th>0</th>\n",
       "      <td>2000</td>\n",
       "      <td>European Union (28 countries)</td>\n",
       "      <td>NaN</td>\n",
       "    </tr>\n",
       "    <tr>\n",
       "      <th>1</th>\n",
       "      <td>2001</td>\n",
       "      <td>European Union (28 countries)</td>\n",
       "      <td>NaN</td>\n",
       "    </tr>\n",
       "    <tr>\n",
       "      <th>2</th>\n",
       "      <td>2002</td>\n",
       "      <td>European Union (28 countries)</td>\n",
       "      <td>5.00</td>\n",
       "    </tr>\n",
       "    <tr>\n",
       "      <th>3</th>\n",
       "      <td>2003</td>\n",
       "      <td>European Union (28 countries)</td>\n",
       "      <td>5.03</td>\n",
       "    </tr>\n",
       "    <tr>\n",
       "      <th>4</th>\n",
       "      <td>2004</td>\n",
       "      <td>European Union (28 countries)</td>\n",
       "      <td>4.95</td>\n",
       "    </tr>\n",
       "  </tbody>\n",
       "</table>\n",
       "</div>"
      ],
      "text/plain": [
       "   TIME                            GEO  Value\n",
       "0  2000  European Union (28 countries)    NaN\n",
       "1  2001  European Union (28 countries)    NaN\n",
       "2  2002  European Union (28 countries)   5.00\n",
       "3  2003  European Union (28 countries)   5.03\n",
       "4  2004  European Union (28 countries)   4.95"
      ]
     },
     "execution_count": 2,
     "metadata": {},
     "output_type": "execute_result"
    }
   ],
   "source": [
    "df = pd.read_csv('./data.csv',usecols=['TIME','GEO','Value'],na_values=\":\")\n",
    "df.head()"
   ]
  },
  {
   "cell_type": "markdown",
   "id": "c77ef621",
   "metadata": {},
   "source": [
    "Cho dữ liệu trong sheet Danh sách của file đính kèm. Bạn hãy sử dụng các hàm trong excel để\n",
    "1. Đếm số ngành đào tạo (Gợi ý: Ngành đào tạo là 2 kí tự đầu của lớp chuyên ngành. Có thể tách một chuỗi bằng hàm LEFT, RIGHT, MID. Sau đó bỏ trùng bằng Revobe Dupplicates)\n",
    "2. Đếm số lượng sinh viên cho từng khóa (Gợi ý: Khóa là 2 kí tự giữa. Hàm đếm số lượng là CountIF)\n",
    "3. Đếm số lượng sinh viên toán tin cho từng khóa (Gợi ý: Khoa Toán Tin có lớp chuyên ngành bắt đầu là T)\n",
    "4. Đếm số lượng sinh viên trong từng khóa và từng ngành, đưa ra bảng như trong sheet Số lượng từng ngành TT. \n",
    "5. Vẽ biểu đồ thể hiện số lượng sinh viên toán tin theo các khóa \n",
    "6. Đếm số lượng sinh viên từng ngành trong khóa 32 Vẽ biểu đồ thể hiện số lượng sinh viên các ngành của khóa 32 "
   ]
  },
  {
   "cell_type": "code",
   "execution_count": 35,
   "id": "c1385c9b",
   "metadata": {},
   "outputs": [
    {
     "data": {
      "text/html": [
       "<div>\n",
       "<style scoped>\n",
       "    .dataframe tbody tr th:only-of-type {\n",
       "        vertical-align: middle;\n",
       "    }\n",
       "\n",
       "    .dataframe tbody tr th {\n",
       "        vertical-align: top;\n",
       "    }\n",
       "\n",
       "    .dataframe thead th {\n",
       "        text-align: right;\n",
       "    }\n",
       "</style>\n",
       "<table border=\"1\" class=\"dataframe\">\n",
       "  <thead>\n",
       "    <tr style=\"text-align: right;\">\n",
       "      <th></th>\n",
       "      <th>Mã SV</th>\n",
       "      <th>Lớp chuyên ngành</th>\n",
       "    </tr>\n",
       "  </thead>\n",
       "  <tbody>\n",
       "    <tr>\n",
       "      <th>0</th>\n",
       "      <td>A19524</td>\n",
       "      <td>SN30g1</td>\n",
       "    </tr>\n",
       "    <tr>\n",
       "      <th>1</th>\n",
       "      <td>A20775</td>\n",
       "      <td>TT32e1</td>\n",
       "    </tr>\n",
       "    <tr>\n",
       "      <th>2</th>\n",
       "      <td>A24706</td>\n",
       "      <td>QT30d1</td>\n",
       "    </tr>\n",
       "    <tr>\n",
       "      <th>3</th>\n",
       "      <td>A24936</td>\n",
       "      <td>TI33c1</td>\n",
       "    </tr>\n",
       "    <tr>\n",
       "      <th>4</th>\n",
       "      <td>A25011</td>\n",
       "      <td>QM30e1</td>\n",
       "    </tr>\n",
       "    <tr>\n",
       "      <th>...</th>\n",
       "      <td>...</td>\n",
       "      <td>...</td>\n",
       "    </tr>\n",
       "    <tr>\n",
       "      <th>11979</th>\n",
       "      <td>A44131</td>\n",
       "      <td>XL34h2</td>\n",
       "    </tr>\n",
       "    <tr>\n",
       "      <th>11980</th>\n",
       "      <td>A44134</td>\n",
       "      <td>TT34h2</td>\n",
       "    </tr>\n",
       "    <tr>\n",
       "      <th>11981</th>\n",
       "      <td>A44139</td>\n",
       "      <td>NZ34d1</td>\n",
       "    </tr>\n",
       "    <tr>\n",
       "      <th>11982</th>\n",
       "      <td>A44139</td>\n",
       "      <td>SD34h1</td>\n",
       "    </tr>\n",
       "    <tr>\n",
       "      <th>11983</th>\n",
       "      <td>A44149</td>\n",
       "      <td>TC34h1</td>\n",
       "    </tr>\n",
       "  </tbody>\n",
       "</table>\n",
       "<p>11984 rows × 2 columns</p>\n",
       "</div>"
      ],
      "text/plain": [
       "        Mã SV Lớp chuyên ngành\n",
       "0      A19524           SN30g1\n",
       "1      A20775           TT32e1\n",
       "2      A24706           QT30d1\n",
       "3      A24936           TI33c1\n",
       "4      A25011           QM30e1\n",
       "...       ...              ...\n",
       "11979  A44131           XL34h2\n",
       "11980  A44134           TT34h2\n",
       "11981  A44139           NZ34d1\n",
       "11982  A44139           SD34h1\n",
       "11983  A44149           TC34h1\n",
       "\n",
       "[11984 rows x 2 columns]"
      ]
     },
     "execution_count": 35,
     "metadata": {},
     "output_type": "execute_result"
    }
   ],
   "source": [
    "ls_6 = pd.read_excel('./DSSV_Ex1.xlsx')\n",
    "ls_6"
   ]
  },
  {
   "cell_type": "markdown",
   "id": "27ce05f6",
   "metadata": {},
   "source": [
    "1. Đếm số ngành đào tạo (Gợi ý: Ngành đào tạo là 2 kí tự đầu của lớp chuyên ngành. Có thể tách một chuỗi bằng hàm LEFT, RIGHT, MID. Sau đó bỏ trùng bằng Revobe Dupplicates)"
   ]
  },
  {
   "cell_type": "code",
   "execution_count": 41,
   "id": "65dc1963",
   "metadata": {},
   "outputs": [
    {
     "name": "stdout",
     "output_type": "stream",
     "text": [
      "28\n"
     ]
    },
    {
     "data": {
      "text/plain": [
       "array(['SN', 'TT', 'QT', 'TI', 'QM', 'QF', 'XC', 'AN', 'TA', 'NE', 'NJ',\n",
       "       'QB', 'QE', 'NK', 'QA', 'NZ', 'XW', 'XV', 'TC', 'XL', 'SD', 'TE',\n",
       "       'SP', 'TM', 'QH', 'QL', 'QC', 'QI'], dtype=object)"
      ]
     },
     "execution_count": 41,
     "metadata": {},
     "output_type": "execute_result"
    }
   ],
   "source": [
    "ls_6_1 = ls_6['Lớp chuyên ngành'].str[:2].unique()\n",
    "print(len(ls_6_1))\n",
    "ls_6_1"
   ]
  },
  {
   "cell_type": "markdown",
   "id": "82e54f77",
   "metadata": {},
   "source": [
    "2. Đếm số lượng sinh viên cho từng khóa (Gợi ý: Khóa là 2 kí tự giữa. Hàm đếm số lượng là CountIF)"
   ]
  },
  {
   "cell_type": "code",
   "execution_count": 47,
   "id": "26923e51",
   "metadata": {},
   "outputs": [],
   "source": [
    "ls_6['Khoá'] = ls_6['Lớp chuyên ngành'].str[2:4]"
   ]
  },
  {
   "cell_type": "code",
   "execution_count": 50,
   "id": "234fa383",
   "metadata": {},
   "outputs": [
    {
     "data": {
      "text/plain": [
       "Khoá\n",
       "30    1445\n",
       "31    1947\n",
       "32    2389\n",
       "33    3522\n",
       "34    2681\n",
       "Name: Mã SV, dtype: int64"
      ]
     },
     "execution_count": 50,
     "metadata": {},
     "output_type": "execute_result"
    }
   ],
   "source": [
    "ls_6.groupby(['Khoá'])['Mã SV'].count()"
   ]
  },
  {
   "cell_type": "markdown",
   "id": "deec720d",
   "metadata": {},
   "source": [
    "3. Đếm số lượng sinh viên toán tin cho từng khóa (Gợi ý: Khoa Toán Tin có lớp chuyên ngành bắt đầu là T)"
   ]
  },
  {
   "cell_type": "code",
   "execution_count": 54,
   "id": "ee61fd3e",
   "metadata": {},
   "outputs": [],
   "source": [
    "ls_6['Nganh'] = ls_6['Lớp chuyên ngành'].str[:1]"
   ]
  },
  {
   "cell_type": "code",
   "execution_count": 57,
   "id": "43700ed0",
   "metadata": {},
   "outputs": [
    {
     "data": {
      "text/html": [
       "<div>\n",
       "<style scoped>\n",
       "    .dataframe tbody tr th:only-of-type {\n",
       "        vertical-align: middle;\n",
       "    }\n",
       "\n",
       "    .dataframe tbody tr th {\n",
       "        vertical-align: top;\n",
       "    }\n",
       "\n",
       "    .dataframe thead th {\n",
       "        text-align: right;\n",
       "    }\n",
       "</style>\n",
       "<table border=\"1\" class=\"dataframe\">\n",
       "  <thead>\n",
       "    <tr style=\"text-align: right;\">\n",
       "      <th></th>\n",
       "      <th>Mã SV</th>\n",
       "      <th>Lớp chuyên ngành</th>\n",
       "      <th>Khoá</th>\n",
       "      <th>Nganh</th>\n",
       "    </tr>\n",
       "  </thead>\n",
       "  <tbody>\n",
       "    <tr>\n",
       "      <th>1</th>\n",
       "      <td>A20775</td>\n",
       "      <td>TT32e1</td>\n",
       "      <td>32</td>\n",
       "      <td>T</td>\n",
       "    </tr>\n",
       "    <tr>\n",
       "      <th>3</th>\n",
       "      <td>A24936</td>\n",
       "      <td>TI33c1</td>\n",
       "      <td>33</td>\n",
       "      <td>T</td>\n",
       "    </tr>\n",
       "    <tr>\n",
       "      <th>9</th>\n",
       "      <td>A28267</td>\n",
       "      <td>TA33c1,</td>\n",
       "      <td>33</td>\n",
       "      <td>T</td>\n",
       "    </tr>\n",
       "    <tr>\n",
       "      <th>28</th>\n",
       "      <td>A30117</td>\n",
       "      <td>TI30g1</td>\n",
       "      <td>30</td>\n",
       "      <td>T</td>\n",
       "    </tr>\n",
       "    <tr>\n",
       "      <th>39</th>\n",
       "      <td>A30141</td>\n",
       "      <td>TI30h1</td>\n",
       "      <td>30</td>\n",
       "      <td>T</td>\n",
       "    </tr>\n",
       "    <tr>\n",
       "      <th>...</th>\n",
       "      <td>...</td>\n",
       "      <td>...</td>\n",
       "      <td>...</td>\n",
       "      <td>...</td>\n",
       "    </tr>\n",
       "    <tr>\n",
       "      <th>11902</th>\n",
       "      <td>A44042</td>\n",
       "      <td>TT34h6</td>\n",
       "      <td>34</td>\n",
       "      <td>T</td>\n",
       "    </tr>\n",
       "    <tr>\n",
       "      <th>11911</th>\n",
       "      <td>A44050</td>\n",
       "      <td>TE34h2</td>\n",
       "      <td>34</td>\n",
       "      <td>T</td>\n",
       "    </tr>\n",
       "    <tr>\n",
       "      <th>11919</th>\n",
       "      <td>A44054</td>\n",
       "      <td>TI34h3</td>\n",
       "      <td>34</td>\n",
       "      <td>T</td>\n",
       "    </tr>\n",
       "    <tr>\n",
       "      <th>11980</th>\n",
       "      <td>A44134</td>\n",
       "      <td>TT34h2</td>\n",
       "      <td>34</td>\n",
       "      <td>T</td>\n",
       "    </tr>\n",
       "    <tr>\n",
       "      <th>11983</th>\n",
       "      <td>A44149</td>\n",
       "      <td>TC34h1</td>\n",
       "      <td>34</td>\n",
       "      <td>T</td>\n",
       "    </tr>\n",
       "  </tbody>\n",
       "</table>\n",
       "<p>1331 rows × 4 columns</p>\n",
       "</div>"
      ],
      "text/plain": [
       "        Mã SV Lớp chuyên ngành Khoá Nganh\n",
       "1      A20775           TT32e1   32     T\n",
       "3      A24936           TI33c1   33     T\n",
       "9      A28267          TA33c1,   33     T\n",
       "28     A30117           TI30g1   30     T\n",
       "39     A30141           TI30h1   30     T\n",
       "...       ...              ...  ...   ...\n",
       "11902  A44042           TT34h6   34     T\n",
       "11911  A44050           TE34h2   34     T\n",
       "11919  A44054           TI34h3   34     T\n",
       "11980  A44134           TT34h2   34     T\n",
       "11983  A44149           TC34h1   34     T\n",
       "\n",
       "[1331 rows x 4 columns]"
      ]
     },
     "execution_count": 57,
     "metadata": {},
     "output_type": "execute_result"
    }
   ],
   "source": [
    "ls_6_TT = ls_6[ls_6['Nganh']== 'T']\n",
    "ls_6_TT"
   ]
  },
  {
   "cell_type": "code",
   "execution_count": 59,
   "id": "11111aed",
   "metadata": {},
   "outputs": [
    {
     "data": {
      "text/plain": [
       "Khoá\n",
       "30     76\n",
       "31    138\n",
       "32    227\n",
       "33    447\n",
       "34    443\n",
       "Name: Mã SV, dtype: int64"
      ]
     },
     "execution_count": 59,
     "metadata": {},
     "output_type": "execute_result"
    }
   ],
   "source": [
    "ls_6_TT.groupby(['Khoá'])['Mã SV'].count()"
   ]
  },
  {
   "cell_type": "markdown",
   "id": "492f431f",
   "metadata": {},
   "source": [
    "4. Đếm số lượng sinh viên trong từng khóa và từng ngành, đưa ra bảng như trong sheet Số lượng từng ngành TT."
   ]
  },
  {
   "cell_type": "code",
   "execution_count": 63,
   "id": "82179d41",
   "metadata": {},
   "outputs": [],
   "source": [
    "ls_6[\"Nganh Specific\"] = ls_6['Lớp chuyên ngành'].str[:2]\n"
   ]
  },
  {
   "cell_type": "code",
   "execution_count": 65,
   "id": "f3cb1198",
   "metadata": {},
   "outputs": [
    {
     "data": {
      "text/plain": [
       "Khoá  Nganh Specific\n",
       "30    AN                 13\n",
       "      NE                157\n",
       "      NJ                218\n",
       "      NK                 75\n",
       "      NZ                 63\n",
       "                       ... \n",
       "34    TT                196\n",
       "      XC                144\n",
       "      XL                 90\n",
       "      XV                 53\n",
       "      XW                 23\n",
       "Name: Mã SV, Length: 112, dtype: int64"
      ]
     },
     "execution_count": 65,
     "metadata": {},
     "output_type": "execute_result"
    }
   ],
   "source": [
    "ls_6.groupby(['Khoá','Nganh Specific'])['Mã SV'].count()"
   ]
  },
  {
   "cell_type": "markdown",
   "id": "bc4ffdc9",
   "metadata": {},
   "source": [
    "5. Vẽ biểu đồ thể hiện số lượng sinh viên toán tin theo các khóa"
   ]
  },
  {
   "cell_type": "code",
   "execution_count": 67,
   "id": "fe8b100a",
   "metadata": {},
   "outputs": [
    {
     "data": {
      "text/plain": [
       "<AxesSubplot:xlabel='Khoá'>"
      ]
     },
     "execution_count": 67,
     "metadata": {},
     "output_type": "execute_result"
    },
    {
     "data": {
      "image/png": "[encoded data removed]",
      "text/plain": [
       "<Figure size 432x288 with 1 Axes>"
      ]
     },
     "metadata": {
      "needs_background": "light"
     },
     "output_type": "display_data"
    }
   ],
   "source": [
    "ls_6_TT.groupby(['Khoá'])['Mã SV'].count().plot(kind='bar')"
   ]
  },
  {
   "cell_type": "markdown",
   "id": "89ef2122",
   "metadata": {},
   "source": [
    "6. Đếm số lượng sinh viên từng ngành trong khóa 32 Vẽ biểu đồ thể hiện số lượng sinh viên các ngành của khóa 32 "
   ]
  },
  {
   "cell_type": "code",
   "execution_count": 70,
   "id": "b6656d03",
   "metadata": {},
   "outputs": [],
   "source": [
    "ls_6_K_32 = ls_6[ls_6['Khoá'] == '32']\n"
   ]
  },
  {
   "cell_type": "code",
   "execution_count": 73,
   "id": "0c2bdf84",
   "metadata": {},
   "outputs": [
    {
     "data": {
      "text/plain": [
       "<AxesSubplot:xlabel='Nganh Specific'>"
      ]
     },
     "execution_count": 73,
     "metadata": {},
     "output_type": "execute_result"
    },
    {
     "data": {
      "image/png": "[encoded data removed]",
      "text/plain": [
       "<Figure size 432x288 with 1 Axes>"
      ]
     },
     "metadata": {
      "needs_background": "light"
     },
     "output_type": "display_data"
    }
   ],
   "source": [
    "ls_6_K_32.groupby(['Nganh Specific'])['Mã SV'].count().plot(kind='bar')"
   ]
  },
  {
   "cell_type": "code",
   "execution_count": null,
   "id": "9ce4e843",
   "metadata": {},
   "outputs": [],
   "source": []
  }
 ],
 "metadata": {
  "kernelspec": {
   "display_name": "Python 3",
   "language": "python",
   "name": "python3"
  },
  "language_info": {
   "codemirror_mode": {
    "name": "ipython",
    "version": 3
   },
   "file_extension": ".py",
   "mimetype": "text/x-python",
   "name": "python",
   "nbconvert_exporter": "python",
   "pygments_lexer": "ipython3",
   "version": "3.8.5"
  }
 },
 "nbformat": 4,
 "nbformat_minor": 5
}
